{
  "cells": [
    {
      "cell_type": "markdown",
      "metadata": {
        "id": "XfyIFe1t6w-Z"
      },
      "source": [
        "# CQL2 filters parser in Python\n",
        "\n",
        "Run cql2-filters-parser Javascript node module in Python notebook\n",
        "https://github.com/NoamRa/ogc-cql2-filters"
      ]
    },
    {
      "cell_type": "markdown",
      "metadata": {
        "id": "Fw0m7GqGnew8"
      },
      "source": [
        "Install Javascript Python module"
      ]
    },
    {
      "cell_type": "code",
      "execution_count": null,
      "metadata": {
        "id": "Zi6S6BWMF1KD"
      },
      "outputs": [],
      "source": [
        "!pip install javascript"
      ]
    },
    {
      "cell_type": "markdown",
      "metadata": {
        "id": "kENi_uHzJOQz"
      },
      "source": [
        "### require cql2-filters-parser node module from npm"
      ]
    },
    {
      "cell_type": "code",
      "execution_count": null,
      "metadata": {
        "id": "pejU1QWVJYNx"
      },
      "outputs": [],
      "source": [
        "from javascript import require\n",
        "cql2_parser = require(\"cql2-filters-parser\")"
      ]
    },
    {
      "cell_type": "markdown",
      "metadata": {
        "id": "rf4BsfKIJbNW"
      },
      "source": [
        "### Parse CQL2 Text example"
      ]
    },
    {
      "cell_type": "code",
      "execution_count": null,
      "metadata": {
        "id": "SWAzVYvSmofl"
      },
      "outputs": [],
      "source": [
        "res = cql2_parser.parse(\"text='works'\")\n",
        "\n",
        "print(f\"Encoding: {res.encoding}\")\n",
        "\n",
        "print(\"\\nJSON encoding:\")\n",
        "print(res.expression.toJSON())\n",
        "\n",
        "print(\"\\nText encoding:\")\n",
        "print(res.expression.toText())"
      ]
    },
    {
      "cell_type": "markdown",
      "metadata": {
        "id": "YmzAmznAJi3G"
      },
      "source": [
        "### Parse CQL2 JSON example"
      ]
    },
    {
      "cell_type": "code",
      "execution_count": null,
      "metadata": {
        "id": "Zip9Q9q5TARu"
      },
      "outputs": [],
      "source": [
        "\"\"\"\n",
        "Parse CQL2 JSON\n",
        "\"\"\"\n",
        "\n",
        "res = cql2_parser.parse({ \"op\": \"=\", \"args\": [ { \"property\": \"JSON\" }, \"also works\" ] })\n",
        "\n",
        "print(f\"Encoding: {res.encoding}\")\n",
        "\n",
        "print(\"\\nText encoding:\")\n",
        "print(res.expression.toText())\n",
        "\n",
        "print(\"\\nJSON encoding:\")\n",
        "print(res.expression.toJSON())"
      ]
    }
  ],
  "metadata": {
    "colab": {
      "private_outputs": true,
      "provenance": []
    },
    "kernelspec": {
      "display_name": "Python 3",
      "name": "python3"
    },
    "language_info": {
      "name": "python"
    }
  },
  "nbformat": 4,
  "nbformat_minor": 0
}
